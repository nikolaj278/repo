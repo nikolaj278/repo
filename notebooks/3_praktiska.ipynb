{
 "cells": [
  {
   "cell_type": "code",
   "execution_count": 2,
   "id": "3cceca3b-c42a-4bbb-9493-88ab46753b93",
   "metadata": {},
   "outputs": [],
   "source": [
    "import numpy as np\n",
    "from sklearn.model_selection import train_test_split\n",
    "from sklearn.linear_model import Ridge\n",
    "from sklearn.preprocessing import scale"
   ]
  },
  {
   "cell_type": "code",
   "execution_count": 8,
   "id": "93eba074-04be-4455-a37c-7821436827b3",
   "metadata": {},
   "outputs": [],
   "source": [
    "p = 9\n",
    "n = 50"
   ]
  },
  {
   "cell_type": "code",
   "execution_count": 9,
   "id": "342de9a8-52de-40b5-8739-c37149e6d570",
   "metadata": {},
   "outputs": [],
   "source": [
    "X = np.random.normal(loc=0, scale=1, size=n*p).reshape(n, p)"
   ]
  },
  {
   "cell_type": "code",
   "execution_count": 10,
   "id": "e6c69211-a0e7-4641-bca4-f2e7b833eada",
   "metadata": {},
   "outputs": [],
   "source": [
    "beta_true = np.ones(p) / p\n",
    "sigma = 1\n",
    "y = X @ beta_true + np.random.normal(0, sigma, n)\n",
    "\n",
    "X_scaled = scale(X)"
   ]
  },
  {
   "cell_type": "code",
   "execution_count": 25,
   "id": "67d0c9b2-d503-4582-9602-113a8d3e01ce",
   "metadata": {},
   "outputs": [],
   "source": [
    "lmbd = np.arange(0, 500)\n",
    "d = np.linalg.svd(X_scaled, compute_uv=False)\n",
    "\n",
    "df = lambda l, d: (d[:, None]**2 / (d[:, None]**2 + l[None, :])).sum(axis=0)\n"
   ]
  },
  {
   "cell_type": "code",
   "execution_count": 27,
   "id": "84ab3b8f-9cb9-4904-86c7-62a4d699c00f",
   "metadata": {},
   "outputs": [],
   "source": [
    "max_lambda = df(lmbd, d)[df(lmbd, d) >= 1].shape[0]"
   ]
  },
  {
   "cell_type": "code",
   "execution_count": 33,
   "id": "be0223d2-2ec6-44c2-8425-5ea8a1be322f",
   "metadata": {
    "scrolled": true
   },
   "outputs": [],
   "source": [
    "\n",
    "lambdas = np.linspace(0, max_lambda, 100)\n",
    "\n",
    "indicies = np.arange(n)\n",
    "np.random.shuffle(indicies)\n",
    "\n",
    "K = 10\n",
    "piece_len = n // K\n",
    "mse_history = []\n",
    "\n",
    "for l in lambdas:\n",
    "    model = Ridge(l)\n",
    "    mse = 0\n",
    "    for k in range(K):\n",
    "        test = indicies[k:k+piece_len]\n",
    "        train = np.concatenate([indicies[:k,], indicies[k+piece_len:]])\n",
    "        \n",
    "        X_full = np.concatenate([X_scaled, np.ones(n)[:, None]], axis=-1)\n",
    "        model.fit(X_full[train, :], y[train])\n",
    "        y_hat = model.predict(X_full[test, :])\n",
    "        \n",
    "        mse += ((y[test] - y_hat)**2).mean()\n",
    "    \n",
    "    mse_history.append(mse)"
   ]
  },
  {
   "cell_type": "code",
   "execution_count": 34,
   "id": "85d4f86e-2392-4458-8fd1-36647619e3d9",
   "metadata": {},
   "outputs": [
    {
     "data": {
      "image/png": "[encoded data removed]",
      "text/plain": [
       "<Figure size 640x480 with 1 Axes>"
      ]
     },
     "metadata": {},
     "output_type": "display_data"
    }
   ],
   "source": [
    "import  matplotlib.pyplot as plt\n",
    "\n",
    "plt.plot(lambdas, mse_history)\n",
    "plt.ylabel('MSE')\n",
    "plt.xlabel('Lambda');"
   ]
  },
  {
   "cell_type": "markdown",
   "id": "de4c9d53-7f9c-4482-954f-d5f0ca9398a5",
   "metadata": {},
   "source": [
    "Vismazakais MSE ir pie lambda "
   ]
  },
  {
   "cell_type": "code",
   "execution_count": 37,
   "id": "63a4665a-a413-40dd-ad67-670806847d1e",
   "metadata": {},
   "outputs": [
    {
     "data": {
      "text/plain": [
       "84.21212121212122"
      ]
     },
     "execution_count": 37,
     "metadata": {},
     "output_type": "execute_result"
    }
   ],
   "source": [
    "lambdas[np.argmin(mse_history)]"
   ]
  },
  {
   "cell_type": "code",
   "execution_count": null,
   "id": "f304edd5-1576-4616-8cc0-a8ae97f565a5",
   "metadata": {},
   "outputs": [],
   "source": []
  }
 ],
 "metadata": {
  "kernelspec": {
   "display_name": "Python 3 (ipykernel)",
   "language": "python",
   "name": "python3"
  },
  "language_info": {
   "codemirror_mode": {
    "name": "ipython",
    "version": 3
   },
   "file_extension": ".py",
   "mimetype": "text/x-python",
   "name": "python",
   "nbconvert_exporter": "python",
   "pygments_lexer": "ipython3",
   "version": "3.10.18"
  }
 },
 "nbformat": 4,
 "nbformat_minor": 5
}
