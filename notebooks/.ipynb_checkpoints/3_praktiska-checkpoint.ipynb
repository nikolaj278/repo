{
 "cells": [
  {
   "cell_type": "markdown",
   "id": "eaf7a754-d801-48d7-8a64-a2a039dd8a09",
   "metadata": {},
   "source": [
    "## 1. Uzdevums"
   ]
  },
  {
   "cell_type": "code",
   "execution_count": 8,
   "id": "3cceca3b-c42a-4bbb-9493-88ab46753b93",
   "metadata": {},
   "outputs": [],
   "source": [
    "import numpy as np\n",
    "from sklearn.model_selection import train_test_split\n",
    "from sklearn.linear_model import Ridge\n",
    "from sklearn.preprocessing import scale"
   ]
  },
  {
   "cell_type": "code",
   "execution_count": 4,
   "id": "93eba074-04be-4455-a37c-7821436827b3",
   "metadata": {},
   "outputs": [],
   "source": [
    "p = 9\n",
    "n = 50"
   ]
  },
  {
   "cell_type": "code",
   "execution_count": 5,
   "id": "342de9a8-52de-40b5-8739-c37149e6d570",
   "metadata": {},
   "outputs": [],
   "source": [
    "X_base = np.random.normal(loc=0, scale=1, size=n*p).reshape(n, p)"
   ]
  },
  {
   "cell_type": "code",
   "execution_count": 6,
   "id": "9bd0921d-69ba-43f6-acd4-da3397441bb9",
   "metadata": {},
   "outputs": [
    {
     "data": {
      "text/plain": [
       "(50, 9)"
      ]
     },
     "execution_count": 6,
     "metadata": {},
     "output_type": "execute_result"
    }
   ],
   "source": [
    "X = np.concatenate([X_base, X_base.mean(axis=-1)[:, None]], axis=-1)\n",
    "X.shape"
   ]
  },
  {
   "cell_type": "code",
   "execution_count": 10,
   "id": "e6c69211-a0e7-4641-bca4-f2e7b833eada",
   "metadata": {},
   "outputs": [],
   "source": [
    "beta_true = np.ones(p) / p\n",
    "sigma = 1\n",
    "y = X @ beta_true + np.random.normal(0, sigma, n)\n",
    "\n",
    "X_scaled = scale(X)"
   ]
  },
  {
   "cell_type": "code",
   "execution_count": 71,
   "id": "67d0c9b2-d503-4582-9602-113a8d3e01ce",
   "metadata": {},
   "outputs": [],
   "source": [
    "lmbd = np.linspace(0, 1000, 50)\n",
    "d = np.linalg.svd(X_scaled, compute_uv=False)\n",
    "\n",
    "df = lambda l, d: (d[:, None]**2 / (d[:, None]**2 + l[None, :])).sum(axis=0)\n"
   ]
  },
  {
   "cell_type": "code",
   "execution_count": 72,
   "id": "84ab3b8f-9cb9-4904-86c7-62a4d699c00f",
   "metadata": {},
   "outputs": [
    {
     "data": {
      "text/plain": [
       "array([9.        , 5.67117755, 4.4430738 , 3.66764379, 3.12886198,\n",
       "       2.73102206, 2.4244753 , 2.18067307, 1.98195045, 1.81675583,\n",
       "       1.67720079, 1.55770664, 1.45421252, 1.36368971, 1.28383191,\n",
       "       1.21285122, 1.14933966, 1.09217308, 1.04044282, 0.99340633,\n",
       "       0.95045074, 0.91106571, 0.87482277, 0.84135952, 0.81036733,\n",
       "       0.78158171, 0.75477469, 0.72974872, 0.70633171, 0.68437311,\n",
       "       0.6637406 , 0.64431742, 0.62600013, 0.6086968 , 0.59232539,\n",
       "       0.57681253, 0.56209232, 0.54810548, 0.53479847, 0.52212287,\n",
       "       0.51003473, 0.49849412, 0.48746462, 0.476913  , 0.46680882,\n",
       "       0.45712421, 0.44783353, 0.43891323, 0.43034157, 0.42209849])"
      ]
     },
     "execution_count": 72,
     "metadata": {},
     "output_type": "execute_result"
    }
   ],
   "source": [
    "df(lmbd, d)"
   ]
  },
  {
   "cell_type": "code",
   "execution_count": 73,
   "id": "be0223d2-2ec6-44c2-8425-5ea8a1be322f",
   "metadata": {
    "scrolled": true
   },
   "outputs": [],
   "source": [
    "\n",
    "indicies = np.arange(n)\n",
    "np.random.shuffle(indicies)\n",
    "\n",
    "K = 10\n",
    "piece_len = n // K\n",
    "mse_history = []\n",
    "\n",
    "for l in lmbd:\n",
    "    model = Ridge(l)\n",
    "    mse = 0\n",
    "    for k in range(K):\n",
    "        test = indicies[k:k+piece_len]\n",
    "        train = np.concatenate([indicies[:k,], indicies[k+piece_len:]])\n",
    "        \n",
    "        X_full = np.concatenate([X_scaled, np.ones(n)[:, None]], axis=-1)\n",
    "        model.fit(X_full[train, :], y[train])\n",
    "        y_hat = model.predict(X_full[test, :])\n",
    "        \n",
    "        mse += ((y[test] - y_hat)**2).mean()\n",
    "    \n",
    "    mse_history.append(mse)"
   ]
  },
  {
   "cell_type": "code",
   "execution_count": 78,
   "id": "85d4f86e-2392-4458-8fd1-36647619e3d9",
   "metadata": {},
   "outputs": [
    {
     "data": {
      "image/png": "[encoded data removed]",
      "text/plain": [
       "<Figure size 640x480 with 1 Axes>"
      ]
     },
     "metadata": {},
     "output_type": "display_data"
    }
   ],
   "source": [
    "import  matplotlib.pyplot as plt\n",
    "\n",
    "plt.plot(lmbd, mse_history)\n",
    "plt.ylabel('MSE')\n",
    "plt.xlabel('Lambda');"
   ]
  },
  {
   "cell_type": "code",
   "execution_count": null,
   "id": "63a4665a-a413-40dd-ad67-670806847d1e",
   "metadata": {},
   "outputs": [],
   "source": []
  }
 ],
 "metadata": {
  "kernelspec": {
   "display_name": "Python 3 (ipykernel)",
   "language": "python",
   "name": "python3"
  },
  "language_info": {
   "codemirror_mode": {
    "name": "ipython",
    "version": 3
   },
   "file_extension": ".py",
   "mimetype": "text/x-python",
   "name": "python",
   "nbconvert_exporter": "python",
   "pygments_lexer": "ipython3",
   "version": "3.10.18"
  }
 },
 "nbformat": 4,
 "nbformat_minor": 5
}
